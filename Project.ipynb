{
 "cells": [
  {
   "cell_type": "code",
   "execution_count": 1,
   "metadata": {},
   "outputs": [],
   "source": [
    "import numpy as np\n",
    "import pandas as pd\n",
    "from bokeh.models import ColumnDataSource\n",
    "from bokeh.plotting import figure\n",
    "from bokeh.io import show, output_notebook\n",
    "from bokeh.layouts import gridplot\n",
    "from sklearn.linear_model import LogisticRegression\n",
    "from sklearn.model_selection import train_test_split"
   ]
  },
  {
   "cell_type": "code",
   "execution_count": 286,
   "metadata": {},
   "outputs": [],
   "source": [
    "df=pd.read_csv(\"CT_Accidents.csv\", low_memory=False)"
   ]
  },
  {
   "attachments": {},
   "cell_type": "markdown",
   "metadata": {},
   "source": [
    "The original dataset included 49 states worth of accident data, so I restricted it to CT and saved it as a new csv so we don't have to load a 1Gb csv each time we open it. "
   ]
  },
  {
   "cell_type": "code",
   "execution_count": 94,
   "metadata": {},
   "outputs": [],
   "source": [
    "def comparison_plot(x,Y, Yhat):\n",
    "    '''Plots Predicted vs True values for analysis of regression'''\n",
    "    comparison_plot = figure(title='Difference between Measured and Predicted Values')\n",
    "    comparison_plot.xaxis.axis_label='x'\n",
    "    comparison_plot.yaxis.axis_label='Yhat-Y'\n",
    "    comparison_plot.scatter(x=x,y=Yhat-Y)\n",
    "    comparison_plot.line(x=[x.min(),x.max()],y=[0,0])\n",
    "    return comparison_plot"
   ]
  },
  {
   "attachments": {},
   "cell_type": "markdown",
   "metadata": {},
   "source": [
    "This is a function that will be useful for our linear progression portion."
   ]
  },
  {
   "cell_type": "code",
   "execution_count": 262,
   "metadata": {},
   "outputs": [],
   "source": [
    "df.replace({False : int(0), True : int(1)}, inplace=True)"
   ]
  },
  {
   "attachments": {},
   "cell_type": "markdown",
   "metadata": {},
   "source": [
    "Lots of the features are boolean, so I just switched them to integers. "
   ]
  },
  {
   "cell_type": "code",
   "execution_count": 263,
   "metadata": {},
   "outputs": [
    {
     "data": {
      "text/plain": [
       "0.0    13463\n",
       "2.0     9138\n",
       "3.0     2822\n",
       "1.0     2691\n",
       "4.0     1523\n",
       "Name: Weather_Condition, dtype: int64"
      ]
     },
     "execution_count": 263,
     "metadata": {},
     "output_type": "execute_result"
    }
   ],
   "source": [
    "df.replace({'Fair':int(0),'Clear':int(0), \n",
    "            'Partly Cloudy':int(1),'Scattered Clouds':int(1),'Haze':int(1),'Patches of Fog':int(1),\n",
    "            'Cloudy':int(2), 'Mostly Cloudy':int(2), 'Overcast':int(2), 'Fair / Windy':int(2),'Mist':int(2),'Smoke':int(2),'Haze / Windy':int(2),\n",
    "            'Light Rain':int(3),'Cloudy / Windy':int(3),'Fog':int(3), 'Light Drizzle':int(3), 'Thunder in the Vicinity':int(3),'Drizzle':int(3),'Light Freezing Fog':int(3),\n",
    "            'Light Rain with Thunder':int(3),'Partly Cloudy / Windy':int(3),'Mostly Cloudy / Windy':int(3),'Fog / Windy':int(3),'Heavy Drizzle':int(3),'N/A Precipitation':int(3),\n",
    "            'Rain':int(4),'Light Snow':int(4),'Heavy Rain':int(4),'Light Rain / Windy':int(4),'Snow':int(4),'Wintry Mix':int(4),'T-Storm':int(4),\n",
    "            'Heavy T-Storm':int(4), 'Heavy Snow':int(4), 'Snow / Windy': int(4),'Heavy Rain / Windy':int(4),'Rain / Windy':int(4),'Thunder':int(4),\n",
    "            'Light Freezing Rain':int(4),'Heavy T-Storm / Windy':int(4),'Light Sleet':int(4),'Ice Pellets':int(4),'Heavy Thunderstorms and Rain':int(4),\n",
    "            'Light Thunderstorms and Rain':int(4), 'Thunderstorms and Rain':int(4),'Heavy Thunderstorms and Snow':int(4),'Light Ice Pellets':int(4),\n",
    "            'Light Freezing Drizzle':int(4),'Heavy Snow / Windy':int(4),'T-Storm / Windy':int(4),'Thunderstorm':int(4),'Light Snow / Windy':int(4)}, inplace=True)\n",
    "df['Weather_Condition'].value_counts()"
   ]
  },
  {
   "attachments": {},
   "cell_type": "markdown",
   "metadata": {},
   "source": [
    "I've classified the weather condition features. These are kind of up to interpretation, and actually ended up making the score of the logistic regression slightly less accurate. These should probably be tweaked; then again, maybe there are other feature columns that really ought not be in our logistic regression that is throwing off our data. This dropped the score about 1-2%, and while its still in a decent range getting our accuracy closer to 75% would be best I think."
   ]
  },
  {
   "cell_type": "code",
   "execution_count": 289,
   "metadata": {},
   "outputs": [
    {
     "data": {
      "text/plain": [
       "Day      18624\n",
       "Night    11125\n",
       "Name: Sunrise_Sunset, dtype: int64"
      ]
     },
     "execution_count": 289,
     "metadata": {},
     "output_type": "execute_result"
    }
   ],
   "source": [
    "\n",
    "df['Civil_Twilight'].value_counts()\n",
    "df['Sunrise_Sunset'].value_counts()\n"
   ]
  },
  {
   "cell_type": "code",
   "execution_count": 266,
   "metadata": {},
   "outputs": [],
   "source": [
    "df['Sunrise_Sunset']=df['Sunrise_Sunset'].replace('Day',int(0))\n",
    "df['Sunrise_Sunset']=df['Sunrise_Sunset'].replace('Night',int(1))\n",
    "df.rename(columns={'Sunrise_Sunset':'Night'}, inplace=True)\n",
    "df.iloc[:,44].value_counts()\n"
   ]
  },
  {
   "attachments": {},
   "cell_type": "markdown",
   "metadata": {},
   "source": [
    "The 'Sunrise_Sunset' feature actually just tells us if something is night or day. These have been switched to integers."
   ]
  },
  {
   "cell_type": "code",
   "execution_count": 272,
   "metadata": {},
   "outputs": [],
   "source": [
    "df['Precipitation(in)']=df['Precipitation(in)']*10\n",
    "df.rename(columns={'Precipitation(in)':'Precipitation(tenth_in)'}, inplace=True)\n",
    "\n",
    "\n",
    "for i in df.columns:\n",
    "    if df[i].dtype == float:\n",
    "        df[i] = df[i].round().astype('Int64')"
   ]
  },
  {
   "attachments": {},
   "cell_type": "markdown",
   "metadata": {},
   "source": [
    "Here I switched the 'Precipitation' feature to be measured in tenths of an inch. This is because most of these values in inches are floats in a range of 0-2 inches, so when they are rounded and changed to integers the data is simplified to  values of either 0,1, or 2. By changing these values to tenths, we retain more accuracy in our data. This may be something we want to do with some other features, but I have not gone through all of them yet.\n",
    "\n",
    "The loop is just changing every float value in each column to an integer."
   ]
  },
  {
   "cell_type": "code",
   "execution_count": 154,
   "metadata": {},
   "outputs": [
    {
     "data": {
      "text/plain": [
       "0     22953\n",
       "1       594\n",
       "2       234\n",
       "3        52\n",
       "4        39\n",
       "5        36\n",
       "8        15\n",
       "7        11\n",
       "6        10\n",
       "22        2\n",
       "14        1\n",
       "13        1\n",
       "11        1\n",
       "9         1\n",
       "Name: Precipitation(tenth_in), dtype: Int64"
      ]
     },
     "execution_count": 154,
     "metadata": {},
     "output_type": "execute_result"
    }
   ],
   "source": [
    "df['Precipitation(tenth_in)'].value_counts()"
   ]
  },
  {
   "cell_type": "code",
   "execution_count": 155,
   "metadata": {},
   "outputs": [
    {
     "name": "stdout",
     "output_type": "stream",
     "text": [
      "<class 'pandas.core.frame.DataFrame'>\n",
      "RangeIndex: 29762 entries, 0 to 29761\n",
      "Data columns (total 48 columns):\n",
      " #   Column                   Non-Null Count  Dtype \n",
      "---  ------                   --------------  ----- \n",
      " 0   Unnamed: 0               29762 non-null  int64 \n",
      " 1   ID                       29762 non-null  object\n",
      " 2   Severity                 29762 non-null  int64 \n",
      " 3   Start_Time               29762 non-null  object\n",
      " 4   End_Time                 29762 non-null  object\n",
      " 5   Start_Lat                29762 non-null  Int64 \n",
      " 6   Start_Lng                29762 non-null  Int64 \n",
      " 7   End_Lat                  29762 non-null  Int64 \n",
      " 8   End_Lng                  29762 non-null  Int64 \n",
      " 9   Distance(mi)             29762 non-null  Int64 \n",
      " 10  Description              29762 non-null  object\n",
      " 11  Number                   3630 non-null   Int64 \n",
      " 12  Street                   29762 non-null  object\n",
      " 13  Side                     29762 non-null  object\n",
      " 14  City                     29762 non-null  object\n",
      " 15  County                   29762 non-null  object\n",
      " 16  State                    29762 non-null  object\n",
      " 17  Zipcode                  29762 non-null  object\n",
      " 18  Country                  29762 non-null  object\n",
      " 19  Timezone                 29762 non-null  object\n",
      " 20  Airport_Code             29752 non-null  object\n",
      " 21  Weather_Timestamp        29704 non-null  object\n",
      " 22  Temperature(F)           29639 non-null  Int64 \n",
      " 23  Wind_Chill(F)            25002 non-null  Int64 \n",
      " 24  Humidity(%)              29579 non-null  Int64 \n",
      " 25  Pressure(in)             29693 non-null  Int64 \n",
      " 26  Visibility(mi)           29663 non-null  Int64 \n",
      " 27  Wind_Direction           29555 non-null  object\n",
      " 28  Wind_Speed(mph)          28674 non-null  Int64 \n",
      " 29  Precipitation(tenth_in)  23950 non-null  Int64 \n",
      " 30  Weather_Condition        29637 non-null  object\n",
      " 31  Amenity                  29762 non-null  int64 \n",
      " 32  Bump                     29762 non-null  int64 \n",
      " 33  Crossing                 29762 non-null  int64 \n",
      " 34  Give_Way                 29762 non-null  int64 \n",
      " 35  Junction                 29762 non-null  int64 \n",
      " 36  No_Exit                  29762 non-null  int64 \n",
      " 37  Railway                  29762 non-null  int64 \n",
      " 38  Roundabout               29762 non-null  int64 \n",
      " 39  Station                  29762 non-null  int64 \n",
      " 40  Stop                     29762 non-null  int64 \n",
      " 41  Traffic_Calming          29762 non-null  int64 \n",
      " 42  Traffic_Signal           29762 non-null  int64 \n",
      " 43  Turning_Loop             29762 non-null  int64 \n",
      " 44  Sunrise_Sunset           29749 non-null  object\n",
      " 45  Civil_Twilight           29749 non-null  object\n",
      " 46  Nautical_Twilight        29749 non-null  object\n",
      " 47  Astronomical_Twilight    29749 non-null  object\n",
      "dtypes: Int64(13), int64(15), object(20)\n",
      "memory usage: 11.3+ MB\n"
     ]
    }
   ],
   "source": [
    "df.info()"
   ]
  },
  {
   "cell_type": "code",
   "execution_count": 26,
   "metadata": {},
   "outputs": [],
   "source": [
    "data=np.genfromtxt('CT_Accidents.csv',delimiter=',',skip_header=1)"
   ]
  },
  {
   "cell_type": "code",
   "execution_count": 32,
   "metadata": {},
   "outputs": [
    {
     "data": {
      "text/plain": [
       "(29762, 48)"
      ]
     },
     "execution_count": 32,
     "metadata": {},
     "output_type": "execute_result"
    }
   ],
   "source": [
    "data.shape"
   ]
  },
  {
   "attachments": {},
   "cell_type": "markdown",
   "metadata": {},
   "source": [
    "Above I just quickly put together a data variable that takes our dataframe and formats it into arrays. I think this will be a necessary first step in preparing the data for Linear Regression."
   ]
  },
  {
   "cell_type": "code",
   "execution_count": 273,
   "metadata": {},
   "outputs": [
    {
     "data": {
      "text/plain": [
       "0    24766\n",
       "1     4996\n",
       "Name: Severity, dtype: int64"
      ]
     },
     "execution_count": 273,
     "metadata": {},
     "output_type": "execute_result"
    }
   ],
   "source": [
    "df['Severity']=df['Severity'].replace(int(1),int(0))\n",
    "df['Severity']=df['Severity'].replace(int(2),int(0))\n",
    "df['Severity']=df['Severity'].replace(int(3),int(1))\n",
    "df['Severity']=df['Severity'].replace(int(4),int(1))\n",
    "\n",
    "df['Severity'].value_counts()\n"
   ]
  },
  {
   "cell_type": "code",
   "execution_count": 164,
   "metadata": {},
   "outputs": [
    {
     "data": {
      "text/plain": [
       "100    24090\n",
       "90       695\n",
       "20       632\n",
       "80       558\n",
       "30       556\n",
       "10       555\n",
       "70       542\n",
       "50       455\n",
       "40       443\n",
       "60       422\n",
       "2        218\n",
       "5        174\n",
       "8        101\n",
       "25        79\n",
       "15        40\n",
       "12        33\n",
       "18        31\n",
       "0         26\n",
       "1         12\n",
       "9          1\n",
       "Name: Visibility(tenth_mi), dtype: Int64"
      ]
     },
     "execution_count": 164,
     "metadata": {},
     "output_type": "execute_result"
    }
   ],
   "source": [
    "df['Visibility(tenth_mi)'].value_counts()"
   ]
  },
  {
   "attachments": {},
   "cell_type": "markdown",
   "metadata": {},
   "source": [
    "Here I have reformated the 'Severity' feature that can act as our target. While we can use the original 4 classes for Linear Regression, restricting it to 2 will let us do our Binary Logistic Regression. I just did this after the Linear & PCA section, but we could always just make a new dataset out of this parameter.\n",
    "\n",
    "In the original format, there are only 4 accidents with 'Severity'=1, so switching the classes to just two really shouldnt skew the data much at all. "
   ]
  },
  {
   "cell_type": "code",
   "execution_count": 274,
   "metadata": {},
   "outputs": [
    {
     "name": "stdout",
     "output_type": "stream",
     "text": [
      "False\n"
     ]
    }
   ],
   "source": [
    "df= df.dropna()\n",
    "print(df.isnull().values.any())\n"
   ]
  },
  {
   "attachments": {},
   "cell_type": "markdown",
   "metadata": {},
   "source": [
    "There's a good amount of nan values in each of our numerical feature columns. Here I just dropped every row with them, but we can assess which variables may be better to replace nan values with the average of that feature."
   ]
  },
  {
   "cell_type": "code",
   "execution_count": 280,
   "metadata": {},
   "outputs": [
    {
     "data": {
      "text/plain": [
       "LogisticRegression(max_iter=10000)"
      ]
     },
     "execution_count": 280,
     "metadata": {},
     "output_type": "execute_result"
    }
   ],
   "source": [
    "features = df.columns[[22,23,24,25,26,28,29,30,31,32,33,34,35,36,37,38,39,40,41,42,43,44]]\n",
    "L=LogisticRegression(max_iter=10000, solver='lbfgs')\n",
    "x_train, x_test, y_train, y_test = train_test_split(df[features].values, df['Severity'].values)\n",
    "L.fit(x_train,y_train)"
   ]
  },
  {
   "attachments": {},
   "cell_type": "markdown",
   "metadata": {},
   "source": [
    "I just through in the numerical values into the logistic regression."
   ]
  },
  {
   "cell_type": "code",
   "execution_count": 281,
   "metadata": {},
   "outputs": [
    {
     "data": {
      "text/plain": [
       "0.6827371695178849"
      ]
     },
     "execution_count": 281,
     "metadata": {},
     "output_type": "execute_result"
    }
   ],
   "source": [
    "L.score(x_test,y_test)"
   ]
  },
  {
   "attachments": {},
   "cell_type": "markdown",
   "metadata": {},
   "source": [
    "Around 70% is an okay start but hopefully we can improve. Another thing I haven't done yet is mess with the features that can be considered dependent variable. There might not be any though, since it looks like the variables dealing with time of day have been organized so there's probably no overlap. I havent formated those types of features to numerical values yet either. I feel like once we include those, our logistic regression should improve as well."
   ]
  },
  {
   "cell_type": "code",
   "execution_count": 207,
   "metadata": {},
   "outputs": [
    {
     "data": {
      "text/html": [
       "<div>\n",
       "<style scoped>\n",
       "    .dataframe tbody tr th:only-of-type {\n",
       "        vertical-align: middle;\n",
       "    }\n",
       "\n",
       "    .dataframe tbody tr th {\n",
       "        vertical-align: top;\n",
       "    }\n",
       "\n",
       "    .dataframe thead th {\n",
       "        text-align: right;\n",
       "    }\n",
       "</style>\n",
       "<table border=\"1\" class=\"dataframe\">\n",
       "  <thead>\n",
       "    <tr style=\"text-align: right;\">\n",
       "      <th></th>\n",
       "      <th>Unnamed: 0</th>\n",
       "      <th>ID</th>\n",
       "      <th>Severity</th>\n",
       "      <th>Start_Time</th>\n",
       "      <th>End_Time</th>\n",
       "      <th>Start_Lat</th>\n",
       "      <th>Start_Lng</th>\n",
       "      <th>End_Lat</th>\n",
       "      <th>End_Lng</th>\n",
       "      <th>Distance(mi)</th>\n",
       "      <th>...</th>\n",
       "      <th>Roundabout</th>\n",
       "      <th>Station</th>\n",
       "      <th>Stop</th>\n",
       "      <th>Traffic_Calming</th>\n",
       "      <th>Traffic_Signal</th>\n",
       "      <th>Turning_Loop</th>\n",
       "      <th>Sunrise_Sunset</th>\n",
       "      <th>Civil_Twilight</th>\n",
       "      <th>Nautical_Twilight</th>\n",
       "      <th>Astronomical_Twilight</th>\n",
       "    </tr>\n",
       "  </thead>\n",
       "  <tbody>\n",
       "    <tr>\n",
       "      <th>0</th>\n",
       "      <td>31581</td>\n",
       "      <td>A-31582</td>\n",
       "      <td>2</td>\n",
       "      <td>2016-11-30 15:58:59</td>\n",
       "      <td>2016-11-30 21:58:59</td>\n",
       "      <td>41.77461</td>\n",
       "      <td>-72.57781</td>\n",
       "      <td>41.76576</td>\n",
       "      <td>-72.62613</td>\n",
       "      <td>2.564</td>\n",
       "      <td>...</td>\n",
       "      <td>False</td>\n",
       "      <td>False</td>\n",
       "      <td>False</td>\n",
       "      <td>False</td>\n",
       "      <td>False</td>\n",
       "      <td>False</td>\n",
       "      <td>Day</td>\n",
       "      <td>Day</td>\n",
       "      <td>Day</td>\n",
       "      <td>Day</td>\n",
       "    </tr>\n",
       "    <tr>\n",
       "      <th>1</th>\n",
       "      <td>31603</td>\n",
       "      <td>A-31604</td>\n",
       "      <td>2</td>\n",
       "      <td>2016-11-30 16:53:13</td>\n",
       "      <td>2016-11-30 22:53:13</td>\n",
       "      <td>41.73486</td>\n",
       "      <td>-72.66351</td>\n",
       "      <td>41.72755</td>\n",
       "      <td>-72.66619</td>\n",
       "      <td>0.524</td>\n",
       "      <td>...</td>\n",
       "      <td>False</td>\n",
       "      <td>False</td>\n",
       "      <td>False</td>\n",
       "      <td>False</td>\n",
       "      <td>False</td>\n",
       "      <td>False</td>\n",
       "      <td>Night</td>\n",
       "      <td>Night</td>\n",
       "      <td>Day</td>\n",
       "      <td>Day</td>\n",
       "    </tr>\n",
       "    <tr>\n",
       "      <th>2</th>\n",
       "      <td>31738</td>\n",
       "      <td>A-31739</td>\n",
       "      <td>2</td>\n",
       "      <td>2016-12-01 06:26:05</td>\n",
       "      <td>2016-12-01 12:26:05</td>\n",
       "      <td>41.10143</td>\n",
       "      <td>-73.43527</td>\n",
       "      <td>41.10643</td>\n",
       "      <td>-73.41528</td>\n",
       "      <td>1.097</td>\n",
       "      <td>...</td>\n",
       "      <td>False</td>\n",
       "      <td>False</td>\n",
       "      <td>False</td>\n",
       "      <td>False</td>\n",
       "      <td>False</td>\n",
       "      <td>False</td>\n",
       "      <td>Night</td>\n",
       "      <td>Night</td>\n",
       "      <td>Day</td>\n",
       "      <td>Day</td>\n",
       "    </tr>\n",
       "    <tr>\n",
       "      <th>3</th>\n",
       "      <td>31793</td>\n",
       "      <td>A-31794</td>\n",
       "      <td>2</td>\n",
       "      <td>2016-12-01 08:05:04</td>\n",
       "      <td>2016-12-01 14:05:04</td>\n",
       "      <td>41.28436</td>\n",
       "      <td>-72.94815</td>\n",
       "      <td>41.26920</td>\n",
       "      <td>-72.97343</td>\n",
       "      <td>1.679</td>\n",
       "      <td>...</td>\n",
       "      <td>False</td>\n",
       "      <td>False</td>\n",
       "      <td>False</td>\n",
       "      <td>False</td>\n",
       "      <td>False</td>\n",
       "      <td>False</td>\n",
       "      <td>Day</td>\n",
       "      <td>Day</td>\n",
       "      <td>Day</td>\n",
       "      <td>Day</td>\n",
       "    </tr>\n",
       "    <tr>\n",
       "      <th>4</th>\n",
       "      <td>31896</td>\n",
       "      <td>A-31897</td>\n",
       "      <td>2</td>\n",
       "      <td>2016-12-01 11:54:46</td>\n",
       "      <td>2016-12-01 17:54:46</td>\n",
       "      <td>41.15443</td>\n",
       "      <td>-73.24525</td>\n",
       "      <td>41.16724</td>\n",
       "      <td>-73.22949</td>\n",
       "      <td>1.206</td>\n",
       "      <td>...</td>\n",
       "      <td>False</td>\n",
       "      <td>False</td>\n",
       "      <td>False</td>\n",
       "      <td>False</td>\n",
       "      <td>False</td>\n",
       "      <td>False</td>\n",
       "      <td>Day</td>\n",
       "      <td>Day</td>\n",
       "      <td>Day</td>\n",
       "      <td>Day</td>\n",
       "    </tr>\n",
       "  </tbody>\n",
       "</table>\n",
       "<p>5 rows × 48 columns</p>\n",
       "</div>"
      ],
      "text/plain": [
       "   Unnamed: 0       ID  Severity           Start_Time             End_Time  \\\n",
       "0       31581  A-31582         2  2016-11-30 15:58:59  2016-11-30 21:58:59   \n",
       "1       31603  A-31604         2  2016-11-30 16:53:13  2016-11-30 22:53:13   \n",
       "2       31738  A-31739         2  2016-12-01 06:26:05  2016-12-01 12:26:05   \n",
       "3       31793  A-31794         2  2016-12-01 08:05:04  2016-12-01 14:05:04   \n",
       "4       31896  A-31897         2  2016-12-01 11:54:46  2016-12-01 17:54:46   \n",
       "\n",
       "   Start_Lat  Start_Lng   End_Lat   End_Lng  Distance(mi)  ... Roundabout  \\\n",
       "0   41.77461  -72.57781  41.76576 -72.62613         2.564  ...      False   \n",
       "1   41.73486  -72.66351  41.72755 -72.66619         0.524  ...      False   \n",
       "2   41.10143  -73.43527  41.10643 -73.41528         1.097  ...      False   \n",
       "3   41.28436  -72.94815  41.26920 -72.97343         1.679  ...      False   \n",
       "4   41.15443  -73.24525  41.16724 -73.22949         1.206  ...      False   \n",
       "\n",
       "   Station   Stop Traffic_Calming Traffic_Signal Turning_Loop Sunrise_Sunset  \\\n",
       "0    False  False           False          False        False            Day   \n",
       "1    False  False           False          False        False          Night   \n",
       "2    False  False           False          False        False          Night   \n",
       "3    False  False           False          False        False            Day   \n",
       "4    False  False           False          False        False            Day   \n",
       "\n",
       "  Civil_Twilight Nautical_Twilight Astronomical_Twilight  \n",
       "0            Day               Day                   Day  \n",
       "1          Night               Day                   Day  \n",
       "2          Night               Day                   Day  \n",
       "3            Day               Day                   Day  \n",
       "4            Day               Day                   Day  \n",
       "\n",
       "[5 rows x 48 columns]"
      ]
     },
     "execution_count": 207,
     "metadata": {},
     "output_type": "execute_result"
    }
   ],
   "source": [
    "df.head()"
   ]
  }
 ],
 "metadata": {
  "kernelspec": {
   "display_name": "base",
   "language": "python",
   "name": "python3"
  },
  "language_info": {
   "codemirror_mode": {
    "name": "ipython",
    "version": 3
   },
   "file_extension": ".py",
   "mimetype": "text/x-python",
   "name": "python",
   "nbconvert_exporter": "python",
   "pygments_lexer": "ipython3",
   "version": "3.9.13"
  },
  "orig_nbformat": 4
 },
 "nbformat": 4,
 "nbformat_minor": 2
}
